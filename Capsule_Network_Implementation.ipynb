{
 "cells": [
  {
   "cell_type": "markdown",
   "metadata": {},
   "source": [
    "## Capsule Network Implementation"
   ]
  },
  {
   "cell_type": "markdown",
   "metadata": {},
   "source": [
    "Importing all dependencies"
   ]
  },
  {
   "cell_type": "code",
   "execution_count": 1,
   "metadata": {},
   "outputs": [
    {
     "name": "stdout",
     "output_type": "stream",
     "text": [
      "WARNING:tensorflow:From c:\\Users\\SOLANKI\\AppData\\Local\\Programs\\Python\\Python311\\Lib\\site-packages\\keras\\src\\losses.py:2976: The name tf.losses.sparse_softmax_cross_entropy is deprecated. Please use tf.compat.v1.losses.sparse_softmax_cross_entropy instead.\n",
      "\n"
     ]
    }
   ],
   "source": [
    "import numpy as np\n",
    "import tensorflow as tf\n",
    "\n",
    "from tqdm import tqdm\n",
    "from datetime import datetime"
   ]
  },
  {
   "cell_type": "markdown",
   "metadata": {},
   "source": [
    "Setting Parameters"
   ]
  },
  {
   "cell_type": "code",
   "execution_count": 14,
   "metadata": {},
   "outputs": [],
   "source": [
    "params = {\n",
    "    \"conv_kernels\": 256,\n",
    "    \"primary_capsules\": 32,\n",
    "    \"secondary_capsules\": 10,\n",
    "    \"primary_cap_vector\": 8,\n",
    "    \"secondary_cap_vector\": 16,\n",
    "    \"r\":3,\n",
    "}\n",
    "\n",
    "epsilon = 1e-7\n",
    "lambda_ = 0.5\n",
    "alpha = 0.0005\n",
    "epochs = 2\n",
    "m_plus = 0.9\n",
    "m_minus = 0.1\n",
    "secondary_capsules = 10\n",
    "\n",
    "optimizer_adam = tf.keras.optimizers.Adam()"
   ]
  },
  {
   "cell_type": "markdown",
   "metadata": {},
   "source": [
    "Retrieving MNIST dataset"
   ]
  },
  {
   "cell_type": "code",
   "execution_count": 4,
   "metadata": {},
   "outputs": [
    {
     "name": "stdout",
     "output_type": "stream",
     "text": [
      "Downloading data from https://storage.googleapis.com/tensorflow/tf-keras-datasets/mnist.npz\n",
      "11490434/11490434 [==============================] - 4s 0us/step\n"
     ]
    }
   ],
   "source": [
    "(train_x, train_y), (test_x , test_y)= tf.keras.datasets.mnist.load_data()"
   ]
  },
  {
   "cell_type": "markdown",
   "metadata": {},
   "source": [
    "Preprocessing data"
   ]
  },
  {
   "cell_type": "code",
   "execution_count": 5,
   "metadata": {},
   "outputs": [],
   "source": [
    "train_x = train_x / 255.0\n",
    "test_x = test_x / 255.0\n",
    "\n",
    "train_x = tf.cast(train_x, dtype=tf.float32)\n",
    "test_x = tf.cast(test_x, dtype=tf.float32)\n",
    "\n",
    "train_x = tf.expand_dims(train_x, axis=-1)\n",
    "test_x = tf.expand_dims(test_x, axis=-1)\n",
    "\n",
    "test_size = test_x.shape[0]\n",
    "train_size = train_x.shape[0]\n",
    "\n",
    "train_dataset = tf.data.Dataset.from_tensor_slices((train_x, train_y))\n",
    "test_dataset = tf.data.Dataset.from_tensor_slices((test_x, test_y))\n",
    "\n",
    "train_dataset = train_dataset.shuffle(buffer_size=len(train_dataset), reshuffle_each_iteration=True)\n",
    "\n",
    "train_dataset = train_dataset.batch(batch_size=64)\n",
    "test_dataset = test_dataset.batch(batch_size=64)"
   ]
  },
  {
   "cell_type": "markdown",
   "metadata": {},
   "source": [
    "Defining Capsule Network class with all its functions"
   ]
  },
  {
   "cell_type": "code",
   "execution_count": 6,
   "metadata": {},
   "outputs": [],
   "source": [
    "class CapsuleNetwork(tf.keras.Model):\n",
    "    \n",
    "    #initialization\n",
    "    def __init__(self, conv_kernels, primary_capsules, primary_cap_vector, secondary_capsules, secondary_cap_vector, r):\n",
    "        \n",
    "        super(CapsuleNetwork, self).__init__()\n",
    "        self.conv_kernels = conv_kernels\n",
    "        self.primary_capsules = primary_capsules\n",
    "        self.primary_cap_vector = primary_cap_vector\n",
    "        self.secondary_capsules = secondary_capsules\n",
    "        self.secondary_cap_vector = secondary_cap_vector\n",
    "        self.r = r\n",
    "        \n",
    "        #Assigning the layers\n",
    "        with tf.name_scope(\"Variables\") as scope:\n",
    "            \n",
    "            self.convolution = tf.keras.layers.Conv2D(self.conv_kernels, [9,9], strides=[1,1], name='ConvolutionLayer', activation='relu')\n",
    "            self.primary_capsule = tf.keras.layers.Conv2D(self.primary_capsules * self.primary_cap_vector, [9,9], strides=[2,2], name=\"PrimaryCapsule\")\n",
    "            self.w = tf.Variable(tf.random_normal_initializer()(shape=[1, 1152, self.secondary_capsules, self.secondary_cap_vector, self.primary_cap_vector]), dtype=tf.float32, name=\"PoseEstimation\", trainable=True)\n",
    "            self.dense_1 = tf.keras.layers.Dense(units = 512, activation='relu')\n",
    "            self.dense_2 = tf.keras.layers.Dense(units = 1024, activation='relu')\n",
    "            self.dense_3 = tf.keras.layers.Dense(units = 784, activation='sigmoid', dtype='float32')\n",
    "        \n",
    "    def build(self, input_shape):\n",
    "        \n",
    "        pass\n",
    "    \n",
    "    #sqush function\n",
    "    def squash(self, s):\n",
    "        \n",
    "        with tf.name_scope(\"SquashFunction\") as scope:\n",
    "            \n",
    "            s_norm = tf.norm(s, axis=-1, keepdims=True)\n",
    "            return tf.square(s_norm)/(1 + tf.square(s_norm)) * s/(s_norm + epsilon)\n",
    "    \n",
    "    @tf.function\n",
    "    #input function for the NN\n",
    "    def call(self, inputs):\n",
    "        \n",
    "        input_x, input_y = inputs\n",
    "        x = self.convolution(input_x) \n",
    "        x = self.primary_capsule(x) \n",
    "        \n",
    "        #Defining Capsule\n",
    "        with tf.name_scope(\"CapsuleFormation\") as scope:\n",
    "\n",
    "            u = tf.reshape(x, (-1, self.primary_capsules * x.shape[1] * x.shape[2], 8)) \n",
    "            u = tf.expand_dims(u, axis=-2) \n",
    "            u = tf.expand_dims(u, axis=-1) \n",
    "            u_hat = tf.matmul(self.w, u) \n",
    "            u_hat = tf.squeeze(u_hat, [4]) \n",
    "\n",
    "            \n",
    "        #Routing mechanism\n",
    "        with tf.name_scope(\"DynamicRouting\") as scope:\n",
    "            \n",
    "            b = tf.zeros((input_x.shape[0], 1152, self.secondary_capsules, 1))\n",
    "            for _ in range(self.r):\n",
    "                c = tf.nn.softmax(b, axis=-2) \n",
    "                s = tf.reduce_sum(tf.multiply(c, u_hat), axis=1, keepdims=True) \n",
    "                v = self.squash(s) \n",
    "                agreement = tf.squeeze(tf.matmul(tf.expand_dims(u_hat, axis=-1), tf.expand_dims(v, axis=-1), transpose_a=True), [4]) \n",
    "                b += agreement\n",
    "        \n",
    "        \n",
    "        #Maksing\n",
    "        with tf.name_scope(\"Masking\") as scope:\n",
    "            \n",
    "            y = tf.expand_dims(input_y, axis=-1) \n",
    "            y = tf.expand_dims(y, axis=1) \n",
    "            mask = tf.cast(y, dtype=tf.float32) \n",
    "            v_masked = tf.multiply(mask, v) \n",
    "        \n",
    "        #Reconstructing the images\n",
    "        with tf.name_scope(\"Reconstruction\") as scope:\n",
    "            v_ = tf.reshape(v_masked, [-1, self.secondary_capsules * self.secondary_cap_vector]) \n",
    "            reconstructed_image = self.dense_1(v_) \n",
    "            reconstructed_image = self.dense_2(reconstructed_image) \n",
    "            reconstructed_image = self.dense_3(reconstructed_image) \n",
    "        \n",
    "        return v, reconstructed_image\n",
    "\n",
    "    @tf.function\n",
    "    #Prediction function \n",
    "    def predict_capsule_output(self, inputs):\n",
    "        \n",
    "        x = self.convolution(inputs) \n",
    "        x = self.primary_capsule(x) \n",
    "        \n",
    "        with tf.name_scope(\"CapsuleFormation\") as scope:\n",
    "            \n",
    "            u = tf.reshape(x, (-1, self.primary_capsules * x.shape[1] * x.shape[2], 8)) \n",
    "            u = tf.expand_dims(u, axis=-2) \n",
    "            u = tf.expand_dims(u, axis=-1) \n",
    "            u_hat = tf.matmul(self.w, u) \n",
    "            u_hat = tf.squeeze(u_hat, [4]) \n",
    "\n",
    "        \n",
    "        with tf.name_scope(\"DynamicRouting\") as scope:\n",
    "            \n",
    "            b = tf.zeros((inputs.shape[0], 1152, self.secondary_capsules, 1)) \n",
    "            for i in range(self.r): \n",
    "                c = tf.nn.softmax(b, axis=-2) \n",
    "                s = tf.reduce_sum(tf.multiply(c, u_hat), axis=1, keepdims=True) \n",
    "                v = self.squash(s) \n",
    "                agreement = tf.squeeze(tf.matmul(tf.expand_dims(u_hat, axis=-1), tf.expand_dims(v, axis=-1), transpose_a=True), [4]) \n",
    "                b += agreement\n",
    "                \n",
    "        return v\n",
    "\n",
    "    @tf.function\n",
    "    #Regenration function\n",
    "    def regenerate_image(self, inputs):\n",
    "        \n",
    "        with tf.name_scope(\"Reconstruction\") as scope:\n",
    "            \n",
    "            v_ = tf.reshape(inputs, [-1, self.secondary_capsules * self.secondary_cap_vector]) \n",
    "            reconstructed_image = self.dense_1(v_) \n",
    "            reconstructed_image = self.dense_2(reconstructed_image) \n",
    "            reconstructed_image = self.dense_3(reconstructed_image) \n",
    "            \n",
    "        return reconstructed_image"
   ]
  },
  {
   "cell_type": "markdown",
   "metadata": {},
   "source": [
    "Declaring normalization function and assigning class to model variable"
   ]
  },
  {
   "cell_type": "code",
   "execution_count": 7,
   "metadata": {},
   "outputs": [
    {
     "name": "stdout",
     "output_type": "stream",
     "text": [
      "WARNING:tensorflow:From c:\\Users\\SOLANKI\\AppData\\Local\\Programs\\Python\\Python311\\Lib\\site-packages\\keras\\src\\backend.py:873: The name tf.get_default_graph is deprecated. Please use tf.compat.v1.get_default_graph instead.\n",
      "\n"
     ]
    }
   ],
   "source": [
    "model = CapsuleNetwork(**params)"
   ]
  },
  {
   "cell_type": "code",
   "execution_count": 8,
   "metadata": {},
   "outputs": [],
   "source": [
    "def safe_norm(v, axis=-1, epsilon=1e-7):\n",
    "    v_ = tf.reduce_sum(tf.square(v), axis = axis, keepdims=True)\n",
    "    return tf.sqrt(v_ + epsilon)"
   ]
  },
  {
   "cell_type": "markdown",
   "metadata": {},
   "source": [
    "\n",
    "Defining loss function"
   ]
  },
  {
   "cell_type": "code",
   "execution_count": 9,
   "metadata": {},
   "outputs": [],
   "source": [
    "def loss_function(v, reconstructed_image, y, y_image):\n",
    "    \n",
    "    prediction = safe_norm(v)\n",
    "    prediction = tf.reshape(prediction, [-1, secondary_capsules])\n",
    "    \n",
    "    left_margin = tf.square(tf.maximum(0.0, m_plus - prediction))\n",
    "    right_margin = tf.square(tf.maximum(0.0, prediction - m_minus))\n",
    "    \n",
    "    l = tf.add(y * left_margin, lambda_ * (1.0 - y) * right_margin)\n",
    "    \n",
    "    margin_loss = tf.reduce_mean(tf.reduce_sum(l, axis=-1))\n",
    "    \n",
    "    y_image_flat = tf.reshape(y_image, [-1, 784])\n",
    "    reconstruction_loss = tf.reduce_mean(tf.square(y_image_flat - reconstructed_image))\n",
    "    \n",
    "    loss = tf.add(margin_loss, alpha * reconstruction_loss)\n",
    "    \n",
    "    return loss"
   ]
  },
  {
   "cell_type": "markdown",
   "metadata": {},
   "source": [
    "Defining traning function"
   ]
  },
  {
   "cell_type": "code",
   "execution_count": 10,
   "metadata": {},
   "outputs": [],
   "source": [
    "def train(x,y):\n",
    "    \n",
    "    y_one_hot = tf.one_hot(y, depth=10)\n",
    "    with tf.GradientTape() as tape:\n",
    "        \n",
    "        v, reconstructed_image = model([x, y_one_hot])\n",
    "        loss = loss_function(v, reconstructed_image, y_one_hot, x)\n",
    "        \n",
    "    grad = tape.gradient(loss, model.trainable_variables)\n",
    "    optimizer_adam.apply_gradients(zip(grad, model.trainable_variables))\n",
    "    \n",
    "    return loss\n",
    "\n",
    "_ = train(train_x[:32],train_y[:32])"
   ]
  },
  {
   "cell_type": "markdown",
   "metadata": {},
   "source": [
    "\n",
    "Prediction function declaration and creating a checkpoint"
   ]
  },
  {
   "cell_type": "code",
   "execution_count": 11,
   "metadata": {},
   "outputs": [],
   "source": [
    "def predict(model, x):\n",
    "    pred = safe_norm(model.predict_capsule_output(x))\n",
    "    pred = tf.squeeze(pred, [1])\n",
    "    return np.argmax(pred, axis=1)[:,0]\n",
    "checkpoint = tf.train.Checkpoint(model=model)"
   ]
  },
  {
   "cell_type": "markdown",
   "metadata": {},
   "source": [
    "Running the training function"
   ]
  },
  {
   "cell_type": "code",
   "execution_count": 15,
   "metadata": {},
   "outputs": [
    {
     "name": "stderr",
     "output_type": "stream",
     "text": [
      "Epoch 1 of 2: 100%|██████████| 938/938 [49:03<00:00,  3.14s/it, Loss :0.045737065 Accuracy :0.9859833333333333]\n",
      "Epoch 2 of 2: 100%|██████████| 938/938 [44:44<00:00,  2.86s/it, Loss :0.016288744 Accuracy :0.9901]       \n"
     ]
    }
   ],
   "source": [
    "losses = []\n",
    "accuracy = []\n",
    "\n",
    "for i in range(1, epochs+1, 1):\n",
    "\n",
    "    loss = 0\n",
    "    with tqdm(total=len(train_dataset)) as progress_bar:\n",
    "        \n",
    "        description = \"Epoch \" + str(i) + \" of \" + str(epochs)\n",
    "        progress_bar.set_description_str(description)\n",
    "\n",
    "        for X_batch, y_batch in train_dataset:\n",
    "\n",
    "            loss += train(X_batch,y_batch)\n",
    "            progress_bar.update(1)\n",
    "\n",
    "        loss /= len(train_dataset)\n",
    "        losses.append(loss.numpy())\n",
    "        \n",
    "        training_sum = 0\n",
    "\n",
    "        #statement = \"Loss :\" + str(loss.numpy()) + \" Evaluating Accuracy ...\"\n",
    "        progress_bar.set_postfix_str(\"Loss :\" + str(loss.numpy()) + \" Evaluating Accuracy ...\")\n",
    "\n",
    "        for X_batch, y_batch in train_dataset:\n",
    "            training_sum += sum(predict(model, X_batch)==y_batch.numpy())\n",
    "        accuracy.append(training_sum/train_size)\n",
    "\n",
    "        #with file_writer.as_default():\n",
    "            #tf.summary.scalar('Loss', data=loss.numpy(), step=i)\n",
    "            #tf.summary.scalar('Accuracy', data=accuracy[-1], step=i)\n",
    "        \n",
    "        #print_statement = \"Loss :\" + str(loss.numpy()) + \" Accuracy :\" + str(accuracy[-1])\n",
    "\n",
    "        if i % 10 == 0:\n",
    "            #print_statement += ' Checkpoint Saved'\n",
    "            checkpoint.save(checkpoint_path)\n",
    "        \n",
    "        progress_bar.set_postfix_str(\"Loss :\" + str(loss.numpy()) + \" Accuracy :\" + str(accuracy[-1]))"
   ]
  },
  {
   "cell_type": "markdown",
   "metadata": {},
   "source": [
    "Showing accuracy of model"
   ]
  },
  {
   "cell_type": "code",
   "execution_count": 16,
   "metadata": {},
   "outputs": [
    {
     "name": "stdout",
     "output_type": "stream",
     "text": [
      "0.9853\n"
     ]
    }
   ],
   "source": [
    "test_sum = 0\n",
    "for X_batch, y_batch in test_dataset:\n",
    "    test_sum += sum(predict(model, X_batch)==y_batch.numpy())\n",
    "print(test_sum/test_size)"
   ]
  }
 ],
 "metadata": {
  "kernelspec": {
   "display_name": "Python 3",
   "language": "python",
   "name": "python3"
  },
  "language_info": {
   "codemirror_mode": {
    "name": "ipython",
    "version": 3
   },
   "file_extension": ".py",
   "mimetype": "text/x-python",
   "name": "python",
   "nbconvert_exporter": "python",
   "pygments_lexer": "ipython3",
   "version": "3.11.3"
  }
 },
 "nbformat": 4,
 "nbformat_minor": 2
}
